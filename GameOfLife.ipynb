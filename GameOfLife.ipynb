{
 "cells": [
  {
   "cell_type": "code",
   "execution_count": null,
   "metadata": {},
   "outputs": [],
   "source": [
    "import numpy as np\n",
    "import random\n",
    "import matplotlib.pyplot as plt\n",
    "import matplotlib.cm as cm\n",
    "from matplotlib import animation,rc"
   ]
  },
  {
   "cell_type": "code",
   "execution_count": null,
   "metadata": {},
   "outputs": [],
   "source": [
    "# Initializing the grid\n",
    "def init_grid(rows, cols):\n",
    "    grid = np.zeros([rows, cols])\n",
    "    for i in range(rows):\n",
    "        for j in range(cols):\n",
    "            grid[i][j] = round(random.random())\n",
    "    return grid"
   ]
  },
  {
   "cell_type": "code",
   "execution_count": null,
   "metadata": {},
   "outputs": [],
   "source": [
    "grid = init_grid(3,3)\n",
    "print(grid)"
   ]
  },
  {
   "cell_type": "code",
   "execution_count": null,
   "metadata": {},
   "outputs": [],
   "source": [
    "ax = plt.axes()\n",
    "ax.matshow(grid,cmap=cm.binary)\n",
    "ax.set_axis_off()"
   ]
  },
  {
   "cell_type": "code",
   "execution_count": null,
   "metadata": {},
   "outputs": [],
   "source": [
    "def nextGeneration(grid, param):\n",
    "    overpop, underpop, newcell = param\n",
    "    rows, cols = grid.shape\n",
    "    newgrid = np.zeros([rows, cols])\n",
    "    neighbors = np.zeros([rows,cols])\n",
    "    \n",
    "    padgrid = np.zeros([rows+2, cols+2])\n",
    "    padgrid[:-2,:-2] = grid\n",
    "    # Compute neighbours and newgrid by adding [i-1, i, i+1]*[j-1, j, j+1] and then subtract the center (i,j)\n",
    "    for i in range(rows):\n",
    "        for j in range(cols):\n",
    "            neighbors[i][j] += sum([padgrid[a][b] for a in [i-1, i, i+1] for b in [j-1, j, j+1]])\n",
    "            neighbors[i][j] -= padgrid[i][j]\n",
    "            # Evolution logic\n",
    "            newgrid[i][j] = grid[i][j]\n",
    "            if grid[i][j] and (neighbors[i][j] > overpop or neighbors[i][j] < underpop):\n",
    "                newgrid[i][j] = 0\n",
    "            elif not grid[i][j] and neighbors[i][j] == newcell:\n",
    "                newgrid[i][j] = 1\n",
    "    return newgrid"
   ]
  },
  {
   "cell_type": "code",
   "execution_count": null,
   "metadata": {},
   "outputs": [],
   "source": [
    "param = 3, 2, 3\n",
    "rows, cols = 20, 20\n",
    "fig = plt.figure()\n",
    "ax = plt.axes()\n",
    "im = ax.matshow(init_grid(rows,cols),cmap=cm.binary)\n",
    "ax.set_axis_off()\n",
    "\n"
   ]
  },
  {
   "cell_type": "code",
   "execution_count": null,
   "metadata": {},
   "outputs": [],
   "source": [
    "def init():\n",
    "    im.set_data(init_grid(rows, cols))\n",
    "    return(im,)\n",
    " \n",
    "def animate(i):\n",
    "    a = im.get_array()\n",
    "    a = nextGeneration(a, param)\n",
    "    im.set_array(a)\n",
    "    return [im]"
   ]
  },
  {
   "cell_type": "code",
   "execution_count": null,
   "metadata": {
    "scrolled": true
   },
   "outputs": [],
   "source": [
    "anim = animation.FuncAnimation(fig, animate, init_func=init, frames=100, blit=True)"
   ]
  },
  {
   "cell_type": "code",
   "execution_count": null,
   "metadata": {},
   "outputs": [],
   "source": [
    "from IPython.display import HTML\n",
    "HTML(anim.to_html5_video())"
   ]
  },
  {
   "cell_type": "code",
   "execution_count": null,
   "metadata": {},
   "outputs": [],
   "source": [
    "# anim._repr_html_() is None\n",
    "# anim"
   ]
  },
  {
   "cell_type": "code",
   "execution_count": null,
   "metadata": {},
   "outputs": [],
   "source": [
    "# rc('animation', html='html5')\n",
    "# anim"
   ]
  },
  {
   "cell_type": "code",
   "execution_count": null,
   "metadata": {},
   "outputs": [],
   "source": [
    "# pulsar input for initializing \n",
    "def init_pulsar():\n",
    "    grid = np.zeros([15, 15])\n",
    "    line = np.zeros(15)\n",
    "    line[3:6] = 1\n",
    "    line[9:12] = 1\n",
    "    for ind in [1,6,8,13]:\n",
    "        grid[ind] = line\n",
    "        grid[:,ind] = line\n",
    "    return grid "
   ]
  },
  {
   "cell_type": "code",
   "execution_count": null,
   "metadata": {},
   "outputs": [],
   "source": [
    "param = 3, 2, 3\n",
    "fig = plt.figure()\n",
    "ax = plt.axes()\n",
    "im = ax.matshow(init_pulsar(),cmap=cm.binary)\n",
    "ax.set_axis_off()\n"
   ]
  },
  {
   "cell_type": "code",
   "execution_count": null,
   "metadata": {},
   "outputs": [],
   "source": [
    "def init():\n",
    "    im.set_data(init_pulsar())\n",
    "    return(im,)\n",
    " \n",
    "def animate(i):\n",
    "    a = im.get_array()\n",
    "    a = nextGeneration(a, param)\n",
    "    im.set_array(a)\n",
    "    return [im]"
   ]
  },
  {
   "cell_type": "code",
   "execution_count": null,
   "metadata": {},
   "outputs": [],
   "source": [
    "anim = animation.FuncAnimation(fig, animate, init_func=init, frames=100, blit=True)"
   ]
  },
  {
   "cell_type": "code",
   "execution_count": null,
   "metadata": {},
   "outputs": [],
   "source": [
    "HTML(anim.to_html5_video())"
   ]
  },
  {
   "cell_type": "code",
   "execution_count": null,
   "metadata": {},
   "outputs": [],
   "source": [
    "# glider input for initializing\n",
    "def init_glider_gun():\n",
    "    glider_gun = 38*'0' + 25*'0'+'1'+12*'0' + 23*'0'+'101'+12*'0' +\\\n",
    "             13*'0'+'11'+6*'0'+'11'+12*'0'+'11'+'0' +\\\n",
    "             12*'0'+'1'+3*'0'+'1'+4*'0'+'11'+12*'0'+'11'+'0' +\\\n",
    "             '0'+'11'+8*'0'+'1'+5*'0'+'100011'+15*'0' +\\\n",
    "             '0'+'11'+8*'0'+'1'+'000'+'1011'+4*'0'+'101'+12*'0' +\\\n",
    "             11*'0'+'1000001'+7*'0'+'1'+12*'0' +\\\n",
    "             12*'0'+'10001'+21*'0' + 13*'0'+'11'+23*'0' + 38*'0' +\\\n",
    "             19*38*'0'\n",
    "    grid = np.array([float(g) for g in glider_gun]).reshape(30,38)\n",
    "    return grid"
   ]
  },
  {
   "cell_type": "code",
   "execution_count": null,
   "metadata": {},
   "outputs": [],
   "source": [
    "pars = 3, 2, 3\n",
    "fig = plt.figure()\n",
    "ax = plt.axes()\n",
    "im = ax.matshow(init_glider_gun(),cmap=cm.binary)\n",
    "ax.set_axis_off()"
   ]
  },
  {
   "cell_type": "code",
   "execution_count": null,
   "metadata": {},
   "outputs": [],
   "source": [
    "def init():\n",
    "    im.set_data(init_glider_gun())\n",
    "    return(im,)\n",
    " \n",
    "def animate(i):\n",
    "    a = im.get_array()\n",
    "    a = nextGeneration(a, param)\n",
    "    im.set_array(a)\n",
    "    return [im]"
   ]
  },
  {
   "cell_type": "code",
   "execution_count": null,
   "metadata": {},
   "outputs": [],
   "source": [
    "anim = animation.FuncAnimation(fig, animate, init_func=init, frames=100, blit=True)"
   ]
  },
  {
   "cell_type": "code",
   "execution_count": null,
   "metadata": {},
   "outputs": [],
   "source": [
    "HTML(anim.to_html5_video())"
   ]
  },
  {
   "cell_type": "code",
   "execution_count": null,
   "metadata": {},
   "outputs": [],
   "source": []
  }
 ],
 "metadata": {
  "kernelspec": {
   "display_name": "Python 3",
   "language": "python",
   "name": "python3"
  },
  "language_info": {
   "codemirror_mode": {
    "name": "ipython",
    "version": 3
   },
   "file_extension": ".py",
   "mimetype": "text/x-python",
   "name": "python",
   "nbconvert_exporter": "python",
   "pygments_lexer": "ipython3",
   "version": "3.7.3"
  }
 },
 "nbformat": 4,
 "nbformat_minor": 2
}
